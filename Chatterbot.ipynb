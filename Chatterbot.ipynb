{
 "cells": [
  {
   "cell_type": "markdown",
   "metadata": {
    "colab_type": "text",
    "id": "view-in-github"
   },
   "source": [
    "<a href=\"https://colab.research.google.com/github/Pranav016/Python-Chatbot/blob/master/Chatterbot.ipynb\" target=\"_parent\"><img src=\"https://colab.research.google.com/assets/colab-badge.svg\" alt=\"Open In Colab\"/></a>"
   ]
  },
  {
   "cell_type": "code",
   "execution_count": 2,
   "metadata": {
    "colab": {
     "base_uri": "https://localhost:8080/"
    },
    "id": "d7DQWH3k_27c",
    "outputId": "ff127929-96a9-4217-c95e-e18e5f37f497"
   },
   "outputs": [
    {
     "name": "stdout",
     "output_type": "stream",
     "text": [
      "Requirement already satisfied: chatterbot in /Users/dmitryshlymovich/opt/anaconda3/lib/python3.7/site-packages (1.0.8)\r\n",
      "Requirement already satisfied: mathparse<0.2,>=0.1 in /Users/dmitryshlymovich/opt/anaconda3/lib/python3.7/site-packages (from chatterbot) (0.1.2)\r\n",
      "Requirement already satisfied: python-dateutil<2.9,>=2.8 in /Users/dmitryshlymovich/opt/anaconda3/lib/python3.7/site-packages (from chatterbot) (2.8.1)\r\n",
      "Requirement already satisfied: pytz in /Users/dmitryshlymovich/opt/anaconda3/lib/python3.7/site-packages (from chatterbot) (2019.3)\r\n",
      "Requirement already satisfied: sqlalchemy<1.4,>=1.3 in /Users/dmitryshlymovich/opt/anaconda3/lib/python3.7/site-packages (from chatterbot) (1.3.15)\r\n",
      "Requirement already satisfied: six>=1.5 in /Users/dmitryshlymovich/opt/anaconda3/lib/python3.7/site-packages (from python-dateutil<2.9,>=2.8->chatterbot) (1.14.0)\r\n"
     ]
    }
   ],
   "source": [
    "!pip install chatterbot"
   ]
  },
  {
   "cell_type": "code",
   "execution_count": 5,
   "metadata": {
    "colab": {
     "base_uri": "https://localhost:8080/"
    },
    "id": "3zpUf0IjJ9aO",
    "outputId": "4198274b-4634-4829-f31f-c58b41460816"
   },
   "outputs": [
    {
     "name": "stdout",
     "output_type": "stream",
     "text": [
      "Collecting chatterbot_corpus\n",
      "  Using cached chatterbot_corpus-1.2.0-py2.py3-none-any.whl (117 kB)\n",
      "Processing /Users/dmitryshlymovich/Library/Caches/pip/wheels/ad/da/0c/74eb680767247273e2cf2723482cb9c924fe70af57c334513f/PyYAML-3.13-cp37-cp37m-macosx_10_7_x86_64.whl\n",
      "Installing collected packages: PyYAML, chatterbot-corpus\n",
      "Successfully installed PyYAML-5.3.1 chatterbot-corpus-1.2.0\n"
     ]
    }
   ],
   "source": [
    "!pip install chatterbot_corpus --ignore-installed"
   ]
  },
  {
   "cell_type": "code",
   "execution_count": 11,
   "metadata": {},
   "outputs": [
    {
     "name": "stdout",
     "output_type": "stream",
     "text": [
      "Requirement already satisfied: spacy in /Users/dmitryshlymovich/opt/anaconda3/lib/python3.7/site-packages (2.3.5)\n",
      "Requirement already satisfied: catalogue<1.1.0,>=0.0.7 in /Users/dmitryshlymovich/opt/anaconda3/lib/python3.7/site-packages (from spacy) (1.0.0)\n",
      "Requirement already satisfied: murmurhash<1.1.0,>=0.28.0 in /Users/dmitryshlymovich/opt/anaconda3/lib/python3.7/site-packages (from spacy) (1.0.5)\n",
      "Requirement already satisfied: requests<3.0.0,>=2.13.0 in /Users/dmitryshlymovich/opt/anaconda3/lib/python3.7/site-packages (from spacy) (2.23.0)\n",
      "Requirement already satisfied: cymem<2.1.0,>=2.0.2 in /Users/dmitryshlymovich/opt/anaconda3/lib/python3.7/site-packages (from spacy) (2.0.5)\n",
      "Requirement already satisfied: srsly<1.1.0,>=1.0.2 in /Users/dmitryshlymovich/opt/anaconda3/lib/python3.7/site-packages (from spacy) (1.0.5)\n",
      "Requirement already satisfied: plac<1.2.0,>=0.9.6 in /Users/dmitryshlymovich/opt/anaconda3/lib/python3.7/site-packages (from spacy) (1.1.3)\n",
      "Requirement already satisfied: preshed<3.1.0,>=3.0.2 in /Users/dmitryshlymovich/opt/anaconda3/lib/python3.7/site-packages (from spacy) (3.0.5)\n",
      "Requirement already satisfied: blis<0.8.0,>=0.4.0 in /Users/dmitryshlymovich/opt/anaconda3/lib/python3.7/site-packages (from spacy) (0.7.4)\n",
      "Requirement already satisfied: wasabi<1.1.0,>=0.4.0 in /Users/dmitryshlymovich/opt/anaconda3/lib/python3.7/site-packages (from spacy) (0.8.0)\n",
      "Requirement already satisfied: setuptools in /Users/dmitryshlymovich/opt/anaconda3/lib/python3.7/site-packages (from spacy) (46.1.1.post20200323)\n",
      "Requirement already satisfied: numpy>=1.15.0 in /Users/dmitryshlymovich/opt/anaconda3/lib/python3.7/site-packages (from spacy) (1.18.1)\n",
      "Requirement already satisfied: thinc<7.5.0,>=7.4.1 in /Users/dmitryshlymovich/opt/anaconda3/lib/python3.7/site-packages (from spacy) (7.4.5)\n",
      "Requirement already satisfied: tqdm<5.0.0,>=4.38.0 in /Users/dmitryshlymovich/opt/anaconda3/lib/python3.7/site-packages (from spacy) (4.43.0)\n",
      "Requirement already satisfied: importlib-metadata>=0.20; python_version < \"3.8\" in /Users/dmitryshlymovich/opt/anaconda3/lib/python3.7/site-packages (from catalogue<1.1.0,>=0.0.7->spacy) (1.5.0)\n",
      "Requirement already satisfied: idna<3,>=2.5 in /Users/dmitryshlymovich/opt/anaconda3/lib/python3.7/site-packages (from requests<3.0.0,>=2.13.0->spacy) (2.9)\n",
      "Requirement already satisfied: urllib3!=1.25.0,!=1.25.1,<1.26,>=1.21.1 in /Users/dmitryshlymovich/opt/anaconda3/lib/python3.7/site-packages (from requests<3.0.0,>=2.13.0->spacy) (1.25.8)\n",
      "Requirement already satisfied: chardet<4,>=3.0.2 in /Users/dmitryshlymovich/opt/anaconda3/lib/python3.7/site-packages (from requests<3.0.0,>=2.13.0->spacy) (3.0.4)\n",
      "Requirement already satisfied: certifi>=2017.4.17 in /Users/dmitryshlymovich/opt/anaconda3/lib/python3.7/site-packages (from requests<3.0.0,>=2.13.0->spacy) (2020.6.20)\n",
      "Requirement already satisfied: zipp>=0.5 in /Users/dmitryshlymovich/opt/anaconda3/lib/python3.7/site-packages (from importlib-metadata>=0.20; python_version < \"3.8\"->catalogue<1.1.0,>=0.0.7->spacy) (2.2.0)\n",
      "Collecting en_core_web_sm==2.3.1\n",
      "  Downloading https://github.com/explosion/spacy-models/releases/download/en_core_web_sm-2.3.1/en_core_web_sm-2.3.1.tar.gz (12.0 MB)\n",
      "\u001b[K     |████████████████████████████████| 12.0 MB 1.4 MB/s eta 0:00:01\n",
      "\u001b[?25hRequirement already satisfied: spacy<2.4.0,>=2.3.0 in /Users/dmitryshlymovich/opt/anaconda3/lib/python3.7/site-packages (from en_core_web_sm==2.3.1) (2.3.5)\n",
      "Requirement already satisfied: preshed<3.1.0,>=3.0.2 in /Users/dmitryshlymovich/opt/anaconda3/lib/python3.7/site-packages (from spacy<2.4.0,>=2.3.0->en_core_web_sm==2.3.1) (3.0.5)\n",
      "Requirement already satisfied: plac<1.2.0,>=0.9.6 in /Users/dmitryshlymovich/opt/anaconda3/lib/python3.7/site-packages (from spacy<2.4.0,>=2.3.0->en_core_web_sm==2.3.1) (1.1.3)\n",
      "Requirement already satisfied: srsly<1.1.0,>=1.0.2 in /Users/dmitryshlymovich/opt/anaconda3/lib/python3.7/site-packages (from spacy<2.4.0,>=2.3.0->en_core_web_sm==2.3.1) (1.0.5)\n",
      "Requirement already satisfied: wasabi<1.1.0,>=0.4.0 in /Users/dmitryshlymovich/opt/anaconda3/lib/python3.7/site-packages (from spacy<2.4.0,>=2.3.0->en_core_web_sm==2.3.1) (0.8.0)\n",
      "Requirement already satisfied: cymem<2.1.0,>=2.0.2 in /Users/dmitryshlymovich/opt/anaconda3/lib/python3.7/site-packages (from spacy<2.4.0,>=2.3.0->en_core_web_sm==2.3.1) (2.0.5)\n",
      "Requirement already satisfied: murmurhash<1.1.0,>=0.28.0 in /Users/dmitryshlymovich/opt/anaconda3/lib/python3.7/site-packages (from spacy<2.4.0,>=2.3.0->en_core_web_sm==2.3.1) (1.0.5)\n",
      "Requirement already satisfied: catalogue<1.1.0,>=0.0.7 in /Users/dmitryshlymovich/opt/anaconda3/lib/python3.7/site-packages (from spacy<2.4.0,>=2.3.0->en_core_web_sm==2.3.1) (1.0.0)\n",
      "Requirement already satisfied: blis<0.8.0,>=0.4.0 in /Users/dmitryshlymovich/opt/anaconda3/lib/python3.7/site-packages (from spacy<2.4.0,>=2.3.0->en_core_web_sm==2.3.1) (0.7.4)\n",
      "Requirement already satisfied: tqdm<5.0.0,>=4.38.0 in /Users/dmitryshlymovich/opt/anaconda3/lib/python3.7/site-packages (from spacy<2.4.0,>=2.3.0->en_core_web_sm==2.3.1) (4.43.0)\n",
      "Requirement already satisfied: numpy>=1.15.0 in /Users/dmitryshlymovich/opt/anaconda3/lib/python3.7/site-packages (from spacy<2.4.0,>=2.3.0->en_core_web_sm==2.3.1) (1.18.1)\n",
      "Requirement already satisfied: requests<3.0.0,>=2.13.0 in /Users/dmitryshlymovich/opt/anaconda3/lib/python3.7/site-packages (from spacy<2.4.0,>=2.3.0->en_core_web_sm==2.3.1) (2.23.0)\n",
      "Requirement already satisfied: thinc<7.5.0,>=7.4.1 in /Users/dmitryshlymovich/opt/anaconda3/lib/python3.7/site-packages (from spacy<2.4.0,>=2.3.0->en_core_web_sm==2.3.1) (7.4.5)\n",
      "Requirement already satisfied: setuptools in /Users/dmitryshlymovich/opt/anaconda3/lib/python3.7/site-packages (from spacy<2.4.0,>=2.3.0->en_core_web_sm==2.3.1) (46.1.1.post20200323)\n",
      "Requirement already satisfied: importlib-metadata>=0.20; python_version < \"3.8\" in /Users/dmitryshlymovich/opt/anaconda3/lib/python3.7/site-packages (from catalogue<1.1.0,>=0.0.7->spacy<2.4.0,>=2.3.0->en_core_web_sm==2.3.1) (1.5.0)\n",
      "Requirement already satisfied: certifi>=2017.4.17 in /Users/dmitryshlymovich/opt/anaconda3/lib/python3.7/site-packages (from requests<3.0.0,>=2.13.0->spacy<2.4.0,>=2.3.0->en_core_web_sm==2.3.1) (2020.6.20)\n",
      "Requirement already satisfied: idna<3,>=2.5 in /Users/dmitryshlymovich/opt/anaconda3/lib/python3.7/site-packages (from requests<3.0.0,>=2.13.0->spacy<2.4.0,>=2.3.0->en_core_web_sm==2.3.1) (2.9)\n",
      "Requirement already satisfied: chardet<4,>=3.0.2 in /Users/dmitryshlymovich/opt/anaconda3/lib/python3.7/site-packages (from requests<3.0.0,>=2.13.0->spacy<2.4.0,>=2.3.0->en_core_web_sm==2.3.1) (3.0.4)\n",
      "Requirement already satisfied: urllib3!=1.25.0,!=1.25.1,<1.26,>=1.21.1 in /Users/dmitryshlymovich/opt/anaconda3/lib/python3.7/site-packages (from requests<3.0.0,>=2.13.0->spacy<2.4.0,>=2.3.0->en_core_web_sm==2.3.1) (1.25.8)\n",
      "Requirement already satisfied: zipp>=0.5 in /Users/dmitryshlymovich/opt/anaconda3/lib/python3.7/site-packages (from importlib-metadata>=0.20; python_version < \"3.8\"->catalogue<1.1.0,>=0.0.7->spacy<2.4.0,>=2.3.0->en_core_web_sm==2.3.1) (2.2.0)\n",
      "Building wheels for collected packages: en-core-web-sm\n",
      "  Building wheel for en-core-web-sm (setup.py) ... \u001b[?25ldone\n",
      "\u001b[?25h  Created wheel for en-core-web-sm: filename=en_core_web_sm-2.3.1-py3-none-any.whl size=12047105 sha256=8ebe2c04ddb1766f83e8c7fd65cbf58e099b8877c649e480848e87977270db96\n",
      "  Stored in directory: /private/var/folders/r8/g40q3mn542vf55p7g70c9b800000gs/T/pip-ephem-wheel-cache-kc2lvgpt/wheels/b7/0d/f0/7ecae8427c515065d75410989e15e5785dd3975fe06e795cd9\n",
      "Successfully built en-core-web-sm\n",
      "Installing collected packages: en-core-web-sm\n",
      "Successfully installed en-core-web-sm-2.3.1\n",
      "\u001b[38;5;2m✔ Download and installation successful\u001b[0m\n",
      "You can now load the model via spacy.load('en_core_web_sm')\n",
      "\u001b[38;5;2m✔ Linking successful\u001b[0m\n",
      "/Users/dmitryshlymovich/opt/anaconda3/lib/python3.7/site-packages/en_core_web_sm\n",
      "-->\n",
      "/Users/dmitryshlymovich/opt/anaconda3/lib/python3.7/site-packages/spacy/data/en\n",
      "You can now load the model via spacy.load('en')\n"
     ]
    }
   ],
   "source": [
    "! pip install spacy\n",
    "!python -m spacy download en"
   ]
  },
  {
   "cell_type": "code",
   "execution_count": 12,
   "metadata": {
    "id": "dNnKTvpM_8h6"
   },
   "outputs": [],
   "source": [
    "from chatterbot import ChatBot"
   ]
  },
  {
   "cell_type": "code",
   "execution_count": 13,
   "metadata": {
    "id": "34JnpuLFAk67"
   },
   "outputs": [],
   "source": [
    "bot = ChatBot(\n",
    "    'Pranav',  \n",
    "    logic_adapters=[\n",
    "        'chatterbot.logic.BestMatch',\n",
    "        'chatterbot.logic.TimeLogicAdapter'],\n",
    ")"
   ]
  },
  {
   "cell_type": "code",
   "execution_count": 14,
   "metadata": {
    "id": "1HIfQfQNAqP0"
   },
   "outputs": [],
   "source": [
    "from chatterbot.trainers import ChatterBotCorpusTrainer"
   ]
  },
  {
   "cell_type": "code",
   "execution_count": 15,
   "metadata": {
    "id": "OFLmWD_ZKQvG"
   },
   "outputs": [],
   "source": [
    "trainer = ChatterBotCorpusTrainer(bot)"
   ]
  },
  {
   "cell_type": "code",
   "execution_count": 16,
   "metadata": {
    "colab": {
     "base_uri": "https://localhost:8080/"
    },
    "id": "47NnbZQsKT_w",
    "outputId": "a579fadb-897c-4f6a-8e2e-49e0264bc3cf"
   },
   "outputs": [
    {
     "name": "stdout",
     "output_type": "stream",
     "text": [
      "Training ai.yml: [####################] 100%\n",
      "Training botprofile.yml: [####################] 100%\n",
      "Training computers.yml: [####################] 100%\n",
      "Training conversations.yml: [####################] 100%\n",
      "Training emotion.yml: [####################] 100%\n",
      "Training food.yml: [####################] 100%\n",
      "Training gossip.yml: [####################] 100%\n",
      "Training greetings.yml: [####################] 100%\n",
      "Training health.yml: [####################] 100%\n",
      "Training history.yml: [####################] 100%\n",
      "Training humor.yml: [####################] 100%\n",
      "Training literature.yml: [####################] 100%\n",
      "Training money.yml: [####################] 100%\n",
      "Training movies.yml: [####################] 100%\n",
      "Training politics.yml: [####################] 100%\n",
      "Training psychology.yml: [####################] 100%\n",
      "Training science.yml: [####################] 100%\n",
      "Training sports.yml: [####################] 100%\n",
      "Training trivia.yml: [####################] 100%\n"
     ]
    }
   ],
   "source": [
    "trainer.train('chatterbot.corpus.english')"
   ]
  },
  {
   "cell_type": "code",
   "execution_count": 17,
   "metadata": {
    "colab": {
     "base_uri": "https://localhost:8080/"
    },
    "id": "Q-6-d-l9KbQ-",
    "outputId": "14d17140-eab5-49d2-eb35-47fcba517650"
   },
   "outputs": [
    {
     "name": "stdout",
     "output_type": "stream",
     "text": [
      "Enter Your Name: dmitry\n",
      "Hi dmitry, how can I help you?\n",
      "dmitry:want to go home\n",
      "Pranav: The current time is 03:16 PM\n",
      "dmitry:and \n",
      "Pranav: The current time is 03:17 PM\n",
      "dmitry:i want eat\n",
      "Pranav: The current time is 03:17 PM\n",
      "dmitry:buy\n",
      "Pranav: The current time is 03:17 PM\n",
      "dmitry:Bye\n",
      "Pranav: Bye\n"
     ]
    }
   ],
   "source": [
    "name=input(\"Enter Your Name: \")\n",
    "print(\"Hi \"+name+\", how can I help you?\")\n",
    "while True:\n",
    "    request=input(name+':')\n",
    "    if request=='Bye' or request =='bye':\n",
    "        print('Pranav: Bye')\n",
    "        break\n",
    "    else:\n",
    "        response=bot.get_response(request)\n",
    "        # get_reponses() is a method of chatbot instance\n",
    "        print('Pranav:',response)"
   ]
  },
  {
   "cell_type": "code",
   "execution_count": 8,
   "metadata": {
    "id": "-4NVLkLgKkli"
   },
   "outputs": [],
   "source": []
  }
 ],
 "metadata": {
  "colab": {
   "authorship_tag": "ABX9TyPdvRVdYKyQ3VNkcch39IL7",
   "collapsed_sections": [],
   "include_colab_link": true,
   "name": "Chatterbot.ipynb",
   "provenance": []
  },
  "kernelspec": {
   "display_name": "Python 3",
   "language": "python",
   "name": "python3"
  },
  "language_info": {
   "codemirror_mode": {
    "name": "ipython",
    "version": 3
   },
   "file_extension": ".py",
   "mimetype": "text/x-python",
   "name": "python",
   "nbconvert_exporter": "python",
   "pygments_lexer": "ipython3",
   "version": "3.7.4"
  }
 },
 "nbformat": 4,
 "nbformat_minor": 1
}
